{
 "cells": [
  {
   "cell_type": "code",
   "execution_count": 2,
   "id": "5cdb7a66",
   "metadata": {},
   "outputs": [],
   "source": [
    "%matplotlib inline\n",
    "\n",
    "import os\n",
    "import geopandas as gpd\n",
    "from sentinelsat import SentinelAPI, make_path_filter\n",
    "from IPython import display # lets us display images that we download\n",
    "import shapely as shply\n",
    "import geopandas as gpd\n",
    "import pandas as pd\n",
    "import cartopy as crtpy\n",
    "import rasterio as rio\n",
    "import pyepsg\n",
    "import folium as flm\n",
    "import matplotlib.pyplot as plt\n",
    "import numpy\n",
    "import collections.abc # this import is required as the Iterable abstract class was removed from collections in python 3.10\n",
    "collections.Iterable = collections.abc.Iterable\n",
    "collections.Mapping = collections.abc.Mapping\n",
    "collections.MutableSet = collections.abc.MutableSet\n",
    "collections.MutableMapping = collections.abc.MutableMapping\n",
    "#from rasterstats import gen_zonal_stats, raster_stats, zonal_stats, gen_point_query, point_query\n",
    "#import rasterstats as rstats\n"
   ]
  },
  {
   "cell_type": "code",
   "execution_count": 5,
   "id": "c44eb653",
   "metadata": {},
   "outputs": [
    {
     "name": "stdout",
     "output_type": "stream",
     "text": [
      "data_files/la_palma_pe.tif opened in r mode\n",
      "image has 3 band(s)\n",
      "image size (width, height): 19193 x 19184\n",
      "band 1 dataype is uint8\n"
     ]
    }
   ],
   "source": [
    "dataset = rio.open('data_files/la_palma_pe.tif')\n",
    "\n",
    "print('{} opened in {} mode'.format(dataset.name,dataset.mode))\n",
    "print('image has {} band(s)'.format(dataset.count))\n",
    "print('image size (width, height): {} x {}'.format(dataset.width, dataset.height))\n",
    "print('band 1 dataype is {}'.format(dataset.dtypes[0])) # note that the band name (Band 1) differs from the list index [0]"
   ]
  },
  {
   "cell_type": "code",
   "execution_count": 6,
   "id": "9d33e2f6",
   "metadata": {},
   "outputs": [
    {
     "name": "stdout",
     "output_type": "stream",
     "text": [
      "BoundingBox(left=-19.09902356674902, bottom=27.7655309877976, right=-16.649771436108935, top=29.955075781709787)\n",
      "EPSG:4326\n",
      "| 0.00, 0.00,-19.10|\n",
      "| 0.00,-0.00, 29.96|\n",
      "| 0.00, 0.00, 1.00|\n"
     ]
    }
   ],
   "source": [
    "print(dataset.bounds) # prints the bounding box for the data\n",
    "print(dataset.crs) # prints the Coordinate Reference System (CRS) for the data\n",
    "print(dataset.transform) # prints the 3x3 transformation matrix for the data"
   ]
  },
  {
   "cell_type": "code",
   "execution_count": null,
   "id": "96cf4447",
   "metadata": {},
   "outputs": [],
   "source": []
  }
 ],
 "metadata": {
  "kernelspec": {
   "display_name": "Python 3 (ipykernel)",
   "language": "python",
   "name": "python3"
  },
  "language_info": {
   "codemirror_mode": {
    "name": "ipython",
    "version": 3
   },
   "file_extension": ".py",
   "mimetype": "text/x-python",
   "name": "python",
   "nbconvert_exporter": "python",
   "pygments_lexer": "ipython3",
   "version": "3.10.10"
  }
 },
 "nbformat": 4,
 "nbformat_minor": 5
}
